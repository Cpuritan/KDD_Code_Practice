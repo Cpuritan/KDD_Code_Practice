{
 "cells": [
  {
   "cell_type": "code",
   "execution_count": null,
   "id": "dd61cf12",
   "metadata": {},
   "outputs": [],
   "source": []
  },
  {
   "cell_type": "code",
   "execution_count": 1,
   "id": "32c92814",
   "metadata": {
    "ExecuteTime": {
     "end_time": "2022-07-25T13:08:09.343368Z",
     "start_time": "2022-07-25T13:08:04.560200Z"
    }
   },
   "outputs": [
    {
     "name": "stdout",
     "output_type": "stream",
     "text": [
      "2 3\n",
      "s=246\n"
     ]
    }
   ],
   "source": [
    "a,n=map(int,input().split())\n",
    "s=0\n",
    "for i in range(1,n+1):\n",
    "    s += int(str(a)*i)\n",
    "print(\"s={}\".format(s))"
   ]
  },
  {
   "cell_type": "markdown",
   "id": "658a396a",
   "metadata": {},
   "source": [
    "本题要求将输入的任意3个整数从小到大输出。\n",
    "\n",
    "输入格式:\n",
    "输入在一行中给出3个整数，其间以空格分隔。\n",
    "\n",
    "输出格式:\n",
    "在一行中将3个整数从小到大输出，其间以“->”相连。\n",
    "\n",
    "输入样例:\n",
    "4 2 8\n",
    "输出样例:\n",
    "2->4->8"
   ]
  },
  {
   "cell_type": "code",
   "execution_count": 8,
   "id": "c2d71f91",
   "metadata": {
    "ExecuteTime": {
     "end_time": "2022-07-25T13:22:09.453049Z",
     "start_time": "2022-07-25T13:22:06.687466Z"
    }
   },
   "outputs": [
    {
     "name": "stdout",
     "output_type": "stream",
     "text": [
      "4 2 8\n",
      "2->4->8\n"
     ]
    }
   ],
   "source": [
    "a, b, c = input().split()\n",
    "list_ = [a,b,c]\n",
    "while True:\n",
    "    s = 0\n",
    "    for i in range(len(list_)-1):\n",
    "        if list_[i]>list_[i+1]:\n",
    "            list_[i], list_[i+1] = list_[i+1], list_[i]\n",
    "            s += 1\n",
    "    if s == 0:\n",
    "        break\n",
    "print(\"{}->{}->{}\".format(list_[0],list_[1],list_[2]))"
   ]
  },
  {
   "cell_type": "code",
   "execution_count": 2,
   "id": "4b3bdbd7",
   "metadata": {
    "ExecuteTime": {
     "end_time": "2022-07-25T13:13:40.222921Z",
     "start_time": "2022-07-25T13:13:35.511846Z"
    }
   },
   "outputs": [
    {
     "name": "stdout",
     "output_type": "stream",
     "text": [
      "4 2 8\n",
      "2->4->8\n"
     ]
    }
   ],
   "source": [
    "a,b,c=input().split()\n",
    "list_=[a,b,c]\n",
    "list_.sort()\n",
    "print(\"{}->{}->{}\".format(list_[0],list_[1],list_[2]))"
   ]
  },
  {
   "cell_type": "markdown",
   "id": "89cb0821",
   "metadata": {},
   "source": [
    "输入2个正整数lower和upper（lower≤upper≤100），请输出一张取值范围为[lower，upper]、且每次增加2华氏度的华氏-摄氏温度转换表。\n",
    "\n",
    "温度转换的计算公式：C=5×(F−32)/9，其中：C表示摄氏温度，F表示华氏温度。\n",
    "\n",
    "输入格式:\n",
    "在一行中输入2个整数，分别表示lower和upper的值，中间用空格分开。\n",
    "\n",
    "输出格式:\n",
    "第一行输出：\"fahr celsius\"\n",
    "\n",
    "接着每行输出一个华氏温度fahr（整型）与一个摄氏温度celsius（占据6个字符宽度，靠右对齐，保留1位小数）。\n",
    "\n",
    "若输入的范围不合法，则输出\"Invalid.\"。"
   ]
  },
  {
   "cell_type": "code",
   "execution_count": 16,
   "id": "e21d3741",
   "metadata": {
    "ExecuteTime": {
     "end_time": "2022-07-25T13:34:38.517285Z",
     "start_time": "2022-07-25T13:34:32.321375Z"
    }
   },
   "outputs": [
    {
     "name": "stdout",
     "output_type": "stream",
     "text": [
      "32 35\n",
      "fahr celsius\n",
      "32   0.0\n",
      "34   1.1\n"
     ]
    }
   ],
   "source": [
    "lower,upper=map(int,input().split())\n",
    "print(\"fahr celsius\")\n",
    "if lower>100 or lower>upper or lower<0:\n",
    "    print(\"Invalid\")\n",
    "else:\n",
    "    for i in range(lower,upper+1,2):\n",
    "        fahr=i\n",
    "        celsius=5*(i-32)/9\n",
    "        print(\"{}{:>6.1f}\".format(fahr,celsius))\n",
    "        i=i+2"
   ]
  }
 ],
 "metadata": {
  "kernelspec": {
   "display_name": "Python 3",
   "language": "python",
   "name": "python3"
  },
  "language_info": {
   "codemirror_mode": {
    "name": "ipython",
    "version": 3
   },
   "file_extension": ".py",
   "mimetype": "text/x-python",
   "name": "python",
   "nbconvert_exporter": "python",
   "pygments_lexer": "ipython3",
   "version": "3.8.8"
  }
 },
 "nbformat": 4,
 "nbformat_minor": 5
}
