{
 "cells": [
  {
   "cell_type": "markdown",
   "id": "e28b40c8",
   "metadata": {
    "ExecuteTime": {
     "end_time": "2022-06-29T11:33:33.823068Z",
     "start_time": "2022-06-29T11:33:33.803116Z"
    },
    "pycharm": {
     "name": "#%% md\n"
    },
    "scrolled": true
   },
   "source": [
    "## 程序计算练习\n",
    "### Q1\n",
    "计算 1-100 之间的奇数之和，并将这些奇数保存到列表 odd-list\n",
    "\n",
    "判断 odd-list 中有多少素数，并输出所有素数和素数的个数\n",
    "\n",
    "删除 odd-list 中的素数，并计算删除掉的数之"
   ]
  },
  {
   "cell_type": "code",
   "execution_count": 1,
   "id": "b12f81a3",
   "metadata": {
    "ExecuteTime": {
     "end_time": "2022-06-29T13:00:09.378928Z",
     "start_time": "2022-06-29T13:00:09.355849Z"
    },
    "pycharm": {
     "name": "#%%\n"
    }
   },
   "outputs": [
    {
     "name": "stdout",
     "output_type": "stream",
     "text": [
      "2500\n"
     ]
    }
   ],
   "source": [
    "odd_list = []\n",
    "for i in range(1,101):\n",
    "    if i % 2 == 1:  #筛选奇数\n",
    "        odd_list.append(i)        \n",
    "# 奇数之和\n",
    "print(sum(odd_list))"
   ]
  },
  {
   "cell_type": "code",
   "execution_count": 2,
   "id": "af74bfa5",
   "metadata": {
    "ExecuteTime": {
     "end_time": "2022-06-29T13:00:09.403305Z",
     "start_time": "2022-06-29T13:00:09.383883Z"
    }
   },
   "outputs": [
    {
     "name": "stdout",
     "output_type": "stream",
     "text": [
      "素数： [1, 3, 5, 7, 11, 13, 17, 19, 23, 29, 31, 37, 41, 43, 47, 53, 59, 61, 67, 71, 73, 79, 83, 89, 97]\n",
      "存放素数的个数： 25\n"
     ]
    }
   ],
   "source": [
    "temp_list = []  # 存放素数\n",
    "for i in odd_list:\n",
    "    temp = 0  # 可以被整除的数的个数\n",
    "    for j in range(1,i):\n",
    "        if i%j == 0:\n",
    "            temp += 1\n",
    "    if temp < 2:  # 能被两个或更多数整除，则不是素数\n",
    "        temp_list.append(i)\n",
    "        \n",
    "print(\"素数：\",temp_list)\n",
    "print(\"存放素数的个数：\",len(temp_list))"
   ]
  },
  {
   "cell_type": "code",
   "execution_count": 3,
   "id": "61bbd617",
   "metadata": {
    "ExecuteTime": {
     "end_time": "2022-06-29T13:00:09.419277Z",
     "start_time": "2022-06-29T13:00:09.408291Z"
    }
   },
   "outputs": [
    {
     "name": "stdout",
     "output_type": "stream",
     "text": [
      "删除掉素数之后的数之和^_^ 1441\n"
     ]
    }
   ],
   "source": [
    "a = odd_list.copy() #通过copy避免指针错误\n",
    "for i in temp_list:\n",
    "    a.remove(i) \n",
    "    \n",
    "print(\"删除掉素数之后的数之和^_^\",sum(a))"
   ]
  }
 ],
 "metadata": {
  "kernelspec": {
   "display_name": "Python 3",
   "language": "python",
   "name": "python3"
  },
  "language_info": {
   "codemirror_mode": {
    "name": "ipython",
    "version": 3
   },
   "file_extension": ".py",
   "mimetype": "text/x-python",
   "name": "python",
   "nbconvert_exporter": "python",
   "pygments_lexer": "ipython3",
   "version": "3.8.8"
  }
 },
 "nbformat": 4,
 "nbformat_minor": 5
}
