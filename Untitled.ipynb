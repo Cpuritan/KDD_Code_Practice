{
 "cells": [
  {
   "cell_type": "markdown",
   "id": "e28b40c8",
   "metadata": {
    "ExecuteTime": {
     "end_time": "2022-06-29T11:33:33.823068Z",
     "start_time": "2022-06-29T11:33:33.803116Z"
    },
    "pycharm": {
     "name": "#%% md\n"
    },
    "scrolled": true
   },
   "source": [
    "## 程序计算练习\n",
    "### Q1\n",
    "计算 1-100 之间的奇数之和，并将这些奇数保存到列表 odd-list\n",
    "\n",
    "判断 odd-list 中有多少素数，并输出所有素数和素数的个数\n",
    "\n",
    "删除 odd-list 中的素数，并计算删除掉的数之"
   ]
  },
  {
   "cell_type": "code",
   "execution_count": 1,
   "id": "b12f81a3",
   "metadata": {
    "ExecuteTime": {
     "end_time": "2022-08-05T07:38:26.446954Z",
     "start_time": "2022-08-05T07:38:26.418649Z"
    },
    "pycharm": {
     "name": "#%%\n"
    }
   },
   "outputs": [
    {
     "name": "stdout",
     "output_type": "stream",
     "text": [
      "2500\n"
     ]
    }
   ],
   "source": [
    "odd_list = []\n",
    "for i in range(1,101):\n",
    "    if i % 2 == 1:  #筛选奇数\n",
    "        odd_list.append(i)        \n",
    "# 奇数之和\n",
    "print(sum(odd_list))"
   ]
  },
  {
   "cell_type": "code",
   "execution_count": 2,
   "id": "af74bfa5",
   "metadata": {
    "ExecuteTime": {
     "end_time": "2022-08-05T07:38:26.462115Z",
     "start_time": "2022-08-05T07:38:26.450925Z"
    }
   },
   "outputs": [
    {
     "name": "stdout",
     "output_type": "stream",
     "text": [
      "素数： [1, 3, 5, 7, 11, 13, 17, 19, 23, 29, 31, 37, 41, 43, 47, 53, 59, 61, 67, 71, 73, 79, 83, 89, 97]\n",
      "存放素数的个数： 25\n"
     ]
    }
   ],
   "source": [
    "temp_list = []  # 存放素数\n",
    "for i in odd_list:\n",
    "    temp = 0  # 可以被整除的数的个数\n",
    "    for j in range(1,i):\n",
    "        if i%j == 0:\n",
    "            temp += 1\n",
    "    if temp < 2:  # 能被两个或更多数整除，则不是素数\n",
    "        temp_list.append(i)\n",
    "        \n",
    "print(\"素数：\",temp_list)\n",
    "print(\"存放素数的个数：\",len(temp_list))"
   ]
  },
  {
   "cell_type": "code",
   "execution_count": 3,
   "id": "61bbd617",
   "metadata": {
    "ExecuteTime": {
     "end_time": "2022-08-05T07:38:26.477817Z",
     "start_time": "2022-08-05T07:38:26.465847Z"
    }
   },
   "outputs": [
    {
     "name": "stdout",
     "output_type": "stream",
     "text": [
      "删除掉素数之后的数之和^_^ 1441\n"
     ]
    }
   ],
   "source": [
    "a = odd_list.copy() #通过copy避免指针错误\n",
    "for i in temp_list:\n",
    "    a.remove(i) \n",
    "    \n",
    "print(\"删除掉素数之后的数之和^_^\",sum(a))"
   ]
  },
  {
   "cell_type": "markdown",
   "id": "d324647c",
   "metadata": {},
   "source": [
    "### Q2\n",
    "一个数如果恰好等于它的因子之和，这个数就称为“完数”。例如 6=1+2+3，编程找出\n",
    "10000 以内的所有完数，并保存到列表 list_1 中。\n",
    "\n",
    "一个 X 位数如果其各位数字 X 次方和等于该数本身，这个数就称为“水仙花数”。例如\n",
    "对于三位数 153=1^3+5^3+3^3，编程找出 10000 以内的所有“水仙花数”，并保存到列表list_2 中。\n",
    "\n",
    "将 list_1 和 list_2 中的元素合并成列表 list_3，并对其中元素按由小到大次序排列（使用任意一种排序算法完成这一操作，不能通过简单调用 sort 这一类函数完成"
   ]
  },
  {
   "cell_type": "code",
   "execution_count": 4,
   "id": "963101c4",
   "metadata": {
    "ExecuteTime": {
     "end_time": "2022-08-05T07:38:38.338133Z",
     "start_time": "2022-08-05T07:38:26.483800Z"
    }
   },
   "outputs": [],
   "source": [
    "list_1 = []\n",
    "for i in range(1,10001):\n",
    "    temp = [] #存储该数的所有因子\n",
    "    for j in range(1,i):\n",
    "        if i%j == 0:\n",
    "            temp.append(j)\n",
    "        \n",
    "    if i == sum(temp):\n",
    "        list_1.append(i)"
   ]
  },
  {
   "cell_type": "code",
   "execution_count": 5,
   "id": "f053efde",
   "metadata": {
    "ExecuteTime": {
     "end_time": "2022-08-05T07:38:38.385679Z",
     "start_time": "2022-08-05T07:38:38.344093Z"
    }
   },
   "outputs": [
    {
     "data": {
      "text/plain": [
       "[6, 28, 496, 8128]"
      ]
     },
     "execution_count": 5,
     "metadata": {},
     "output_type": "execute_result"
    }
   ],
   "source": [
    "list_1"
   ]
  },
  {
   "cell_type": "code",
   "execution_count": 6,
   "id": "a9dc6358",
   "metadata": {
    "ExecuteTime": {
     "end_time": "2022-08-05T07:38:38.538547Z",
     "start_time": "2022-08-05T07:38:38.393322Z"
    }
   },
   "outputs": [],
   "source": [
    "list_2 = []\n",
    "for i in range(1,10001):\n",
    "    temp = []\n",
    "    for k in range(len(str(i))):\n",
    "        temp.append(int(str(i)[k]))\n",
    "    #if sum(temp**len(str(i))) == i:\n",
    "    if sum(map(lambda x:x**len(str(i)),temp)) == i:\n",
    "        list_2.append(i)"
   ]
  },
  {
   "cell_type": "code",
   "execution_count": 7,
   "id": "d9bca891",
   "metadata": {
    "ExecuteTime": {
     "end_time": "2022-08-05T07:38:38.554121Z",
     "start_time": "2022-08-05T07:38:38.543390Z"
    }
   },
   "outputs": [
    {
     "data": {
      "text/plain": [
       "[1, 2, 3, 4, 5, 6, 7, 8, 9, 153, 370, 371, 407, 1634, 8208, 9474]"
      ]
     },
     "execution_count": 7,
     "metadata": {},
     "output_type": "execute_result"
    }
   ],
   "source": [
    "list_2"
   ]
  },
  {
   "cell_type": "code",
   "execution_count": 8,
   "id": "74f69499",
   "metadata": {
    "ExecuteTime": {
     "end_time": "2022-08-05T07:38:38.594560Z",
     "start_time": "2022-08-05T07:38:38.564463Z"
    }
   },
   "outputs": [
    {
     "name": "stdout",
     "output_type": "stream",
     "text": [
      "排序前： [6, 28, 496, 8128, 1, 2, 3, 4, 5, 6, 7, 8, 9, 153, 370, 371, 407, 1634, 8208, 9474]\n",
      "排序后： [1, 2, 3, 4, 5, 6, 6, 7, 8, 9, 28, 153, 370, 371, 407, 496, 1634, 8128, 8208, 9474]\n"
     ]
    }
   ],
   "source": [
    "# 冒泡排序\n",
    "\n",
    "list_3 = list_1+list_2\n",
    "print(\"排序前：\", list_3)\n",
    "\n",
    "while True:\n",
    "    cap = 0\n",
    "    for i in range(len(list_3)-1):\n",
    "        if list_3[i]>list_3[i+1]:\n",
    "            list_3[i], list_3[i+1] = list_3[i+1], list_3[i]\n",
    "            cap += 1\n",
    "    if cap == 0:# 当未出现次序变换，则说明排序已完成，退出循环\n",
    "        break\n",
    "\n",
    "print(\"排序后：\", list_3)"
   ]
  },
  {
   "cell_type": "markdown",
   "id": "0a0bf054",
   "metadata": {},
   "source": [
    "### Q3\n",
    "找出 100-200 之间的所有非素数，保存到 list_1 中\n",
    "\n",
    "对 list_1 中的每个数求倒数并求和\n",
    "\n",
    "删除 list_1 中所有能被 2 整除的数并输"
   ]
  },
  {
   "cell_type": "code",
   "execution_count": 9,
   "id": "0f3df7c8",
   "metadata": {
    "ExecuteTime": {
     "end_time": "2022-08-05T07:38:38.647592Z",
     "start_time": "2022-08-05T07:38:38.601713Z"
    }
   },
   "outputs": [
    {
     "name": "stdout",
     "output_type": "stream",
     "text": [
      "倒数和为: 0.5494365566021238\n"
     ]
    },
    {
     "data": {
      "text/plain": [
       "[105,\n",
       " 111,\n",
       " 115,\n",
       " 117,\n",
       " 119,\n",
       " 121,\n",
       " 123,\n",
       " 125,\n",
       " 129,\n",
       " 133,\n",
       " 135,\n",
       " 141,\n",
       " 143,\n",
       " 145,\n",
       " 147,\n",
       " 153,\n",
       " 155,\n",
       " 159,\n",
       " 161,\n",
       " 165,\n",
       " 169,\n",
       " 171,\n",
       " 175,\n",
       " 177,\n",
       " 183,\n",
       " 185,\n",
       " 187,\n",
       " 189,\n",
       " 195]"
      ]
     },
     "execution_count": 9,
     "metadata": {},
     "output_type": "execute_result"
    }
   ],
   "source": [
    "list_1 = []\n",
    "# 找出100~200非素数\n",
    "for i in range(100,200):\n",
    "    time_ = 0\n",
    "    for j in range(1,i):\n",
    "        if i%j == 0:\n",
    "            time_ += 1\n",
    "    if time_ >= 2:\n",
    "        list_1.append(i)\n",
    "# 求倒数和\n",
    "print(\"倒数和为:\",sum(list(map(lambda x:1/x,list_1))))\n",
    "\n",
    "# 找到被2整除的数\n",
    "l_2 = []\n",
    "for k in list_1:\n",
    "    if k % 2 == 0:\n",
    "        l_2.append(k)\n",
    "        \n",
    "[m for m in list_1 if m not in l_2]"
   ]
  }
 ],
 "metadata": {
  "kernelspec": {
   "display_name": "PyCharm (Desktop)",
   "language": "python",
   "name": "pycharm-433fd628"
  },
  "language_info": {
   "codemirror_mode": {
    "name": "ipython",
    "version": 3
   },
   "file_extension": ".py",
   "mimetype": "text/x-python",
   "name": "python",
   "nbconvert_exporter": "python",
   "pygments_lexer": "ipython3",
   "version": "3.8.8"
  }
 },
 "nbformat": 4,
 "nbformat_minor": 5
}